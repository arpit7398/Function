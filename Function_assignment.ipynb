{
  "nbformat": 4,
  "nbformat_minor": 0,
  "metadata": {
    "colab": {
      "provenance": []
    },
    "kernelspec": {
      "name": "python3",
      "display_name": "Python 3"
    },
    "language_info": {
      "name": "python"
    }
  },
  "cells": [
    {
      "cell_type": "markdown",
      "source": [
        "**What is the difference between a function and a method in Python?**\n",
        "\n",
        "# -Function\n",
        "1. Function is block of code that is also called by its name(independent).\n",
        "2. The function can have different parameters or may not have any at all. if any data are passed they are passed explicitly.\n",
        "3. It may or may not return any data.\n",
        "4. Function does not deal with class and its instance concept.\n",
        "\n",
        "# Method\n",
        "\n",
        "1. Method is called by its name but it is associated an object(dependent).\n",
        "2. A method definition always includes self as its first parameter.\n",
        "3. Method is implicitly passed to the object on which it is invoked.\n",
        "4. A method can operate on the data that is contained by the corresponding class.\n",
        "\n",
        "\n",
        "**Explain the concept of function arguments and parameters in Python**\n",
        "# Function Argument\n",
        "\n",
        "- Argument are the actual value that you pass to the function whrn you call it.These value replace the parameters defined in the function atthough these are often used interchangebly they have distinct roles within a function This article focuses to clarify them and help us to use paarameters and arguments effectively.\n",
        "\n",
        "# Parameter\n",
        "\n",
        "- Parameters are variables definesd in a function declaration This act as placeholders for the value (argument) that will be passed to the function.\n",
        "\n",
        "\n",
        "**What are the different ways to define and call a function in Python?**\n",
        "\n",
        "- In Python definig and calling function is simple and may greatly improve the readability and reusability of our codde in this article we will explore how we can define and call a function.\n",
        "TO call a function in python we definietrly type the name of the function observed via parentheses() if the function takes any argument the may be covered within the parantheses.\n",
        "\n",
        "**What is the purpose of the  return statement in a Python function?**\n",
        "\n",
        "- A return staement is used to end the execution of the function call and it  \"return\" the value of the experssion following the return keyword to the caller the statement are not executed if the return statement is without any expression then the special value none is return A return statement is overall used to invoke a function so that the passed statement can be executed.\n",
        "\n",
        "**What are iterators in Python and how do they differ from iterables?**\n",
        "\n",
        "  #   Iterators\n",
        "-  An iterator is an object that contains a countable number of value.object that can be iterated upon meaning that you can traverse through all the value. Technically in pythone an iterors is an object which implemnt the itertor protocol which consist of the method __iter__() and __next__().\n",
        "\n",
        "\n",
        "Differ\n",
        "\n",
        "  *Iterable*                                  \n",
        "1. Every iteratoer is iterable.                \n",
        "2. A list is iterable.                           \n",
        "3. AN object to iterate over is iterable         \n",
        "\n",
        "\n",
        "\n",
        "*Iterator*\n",
        "1. Not every iterable is an\n",
        "2. A list is not an itertor.\n",
        "3. Iterators are defined as an object that counts iteration via an interable is an iterator.\n",
        "\n",
        "\n",
        "**Explain the concept of generators in Python and how they are defined**\n",
        "\n",
        "- A generator function is a special type of function that return an iterator object instead of using return to send back a single value generator function use yield to produce a series of results ove ti,e this allows the function to generate value and pause its execution after each yield maintaning its state between iterations.\n",
        "\n",
        "\n",
        "**What are the advantages of using generators over regular functions?**\n",
        "# Efficient Memory Usage\n",
        "- Generators do not store the entire sequence in memory, making them suitable for large datasets or infinite sequences.\n",
        "- More efficient than traditional loops for data processing of calculation.\n",
        "- Allows you to iterate through a sequence of data or value rather than returning a single result.\n",
        "\n",
        "\n",
        "**What is a lambda function in Python and when is it typically used?**\n",
        "\n",
        "-Python Lambda Function are anonymouse function means that the function is without a name.As we alredy know the def keyword is used to define a normal function in python.\n",
        "\n",
        "lambda function is typically used for short simple operation especially when you need to pass a function as an argument to another function.\n",
        "\n",
        "\n",
        "\n",
        "**Explain the purpose and usage of the `map()` function in Python**\n",
        "- The ma() function in python is a built in higher order function that applies a given function to each ite of an iterable (list, tuple, or set) and return an iterator containig the result its primary purpose is to efficient without explicitly writing a for loop.\n",
        "\n",
        "\n",
        "\n",
        "\n",
        "-\n",
        "\n"
      ],
      "metadata": {
        "id": "F8omCN0AJU16"
      }
    },
    {
      "cell_type": "code",
      "source": [
        "# Write a Python function that takes a list of numbers as input and returns the sum of all even numbers in the list.\n",
        "def sum_even_numbers(numbers):\n",
        "    sum_even =0\n",
        "    for num in numbers:\n",
        "        if num % 2 == 0:\n",
        "            sum += num\n",
        "            return even_sum\n",
        "\n",
        "\n",
        "\n"
      ],
      "metadata": {
        "id": "WeHxdMte5tOB"
      },
      "execution_count": 3,
      "outputs": []
    },
    {
      "cell_type": "code",
      "source": [
        "my_list = [1, 2, 3, 4, 5, 6]\n",
        "result = sum_of_even_numbers(my_list)\n",
        "print(\"Sum of even numbers:\", result)"
      ],
      "metadata": {
        "colab": {
          "base_uri": "https://localhost:8080/"
        },
        "id": "XrVwA_eb7DkY",
        "outputId": "dd719d97-6d28-4481-8c44-0d8c5bd7b8f8"
      },
      "execution_count": 5,
      "outputs": [
        {
          "output_type": "stream",
          "name": "stdout",
          "text": [
            "Sum of even numbers: 12\n"
          ]
        }
      ]
    },
    {
      "cell_type": "code",
      "source": [
        "#  Create a Python function that accepts a string and returns the reverse of that string.\n",
        "def reverse_string(input_string):\n",
        "   return reversed_string"
      ],
      "metadata": {
        "id": "CAQooA_t7jr4"
      },
      "execution_count": 8,
      "outputs": []
    },
    {
      "cell_type": "code",
      "source": [
        "text = \"Hello, world!\"\n",
        "reversed_text = reverse_string(text)\n",
        "print(\"Reversed string:\", reversed_text)"
      ],
      "metadata": {
        "colab": {
          "base_uri": "https://localhost:8080/"
        },
        "id": "Yz-QQjA57jyw",
        "outputId": "18e262d8-a225-41f5-91f5-d4cd9abcb509"
      },
      "execution_count": 10,
      "outputs": [
        {
          "output_type": "stream",
          "name": "stdout",
          "text": [
            "Reversed string: !dlrow ,olleH\n"
          ]
        }
      ]
    },
    {
      "cell_type": "code",
      "source": [
        "# . Implement a Python function that takes a list of integers and returns a new list containing the squares of each number.\n",
        "def square_numbers(numbers):\n",
        "    squared_list = []\n",
        "    for num in numbers:\n",
        "        squared_list.append(num ** 2)\n",
        "    return squared_list"
      ],
      "metadata": {
        "id": "igBUfwlo9dkK"
      },
      "execution_count": null,
      "outputs": []
    },
    {
      "cell_type": "code",
      "source": [
        "my_list = [2, 4, 6, 8]\n",
        "result = square_numbers(my_list)\n",
        "print(\"Squared numbers:\", result)"
      ],
      "metadata": {
        "colab": {
          "base_uri": "https://localhost:8080/",
          "height": 176
        },
        "id": "kYY9UFNt9dv-",
        "outputId": "cccf650b-d7da-44ea-bc59-324d14cde6b7"
      },
      "execution_count": 12,
      "outputs": [
        {
          "output_type": "error",
          "ename": "NameError",
          "evalue": "name 'square_numbers' is not defined",
          "traceback": [
            "\u001b[0;31m---------------------------------------------------------------------------\u001b[0m",
            "\u001b[0;31mNameError\u001b[0m                                 Traceback (most recent call last)",
            "\u001b[0;32m/tmp/ipython-input-12-271398031.py\u001b[0m in \u001b[0;36m<cell line: 0>\u001b[0;34m()\u001b[0m\n\u001b[1;32m      1\u001b[0m \u001b[0mmy_list\u001b[0m \u001b[0;34m=\u001b[0m \u001b[0;34m[\u001b[0m\u001b[0;36m2\u001b[0m\u001b[0;34m,\u001b[0m \u001b[0;36m4\u001b[0m\u001b[0;34m,\u001b[0m \u001b[0;36m6\u001b[0m\u001b[0;34m,\u001b[0m \u001b[0;36m8\u001b[0m\u001b[0;34m]\u001b[0m\u001b[0;34m\u001b[0m\u001b[0;34m\u001b[0m\u001b[0m\n\u001b[0;32m----> 2\u001b[0;31m \u001b[0mresult\u001b[0m \u001b[0;34m=\u001b[0m \u001b[0msquare_numbers\u001b[0m\u001b[0;34m(\u001b[0m\u001b[0mmy_list\u001b[0m\u001b[0;34m)\u001b[0m\u001b[0;34m\u001b[0m\u001b[0;34m\u001b[0m\u001b[0m\n\u001b[0m\u001b[1;32m      3\u001b[0m \u001b[0mprint\u001b[0m\u001b[0;34m(\u001b[0m\u001b[0;34m\"Squared numbers:\"\u001b[0m\u001b[0;34m,\u001b[0m \u001b[0mresult\u001b[0m\u001b[0;34m)\u001b[0m\u001b[0;34m\u001b[0m\u001b[0;34m\u001b[0m\u001b[0m\n",
            "\u001b[0;31mNameError\u001b[0m: name 'square_numbers' is not defined"
          ]
        }
      ]
    },
    {
      "cell_type": "code",
      "source": [
        "from typing import Sequence\n",
        "# . Write a Python function that checks if a given number is prime or not from 1 to 200\n",
        "def is_prime(number):\n",
        "    if number <=1:\n",
        "        return False\n",
        "        if number <=3:\n",
        "            return True\n",
        "            if number % 2 ==0 or number % 3 == 0:\n",
        "                return False\n",
        "                import math\n",
        "                sqrt_number = int(math,Sequence)\n",
        "                for i in range(5, sqrt_number + 1, 6):\n",
        "                    if number % i == 0 or number % (i + 2) == 0:\n",
        "                        return False\n",
        "                        return True"
      ],
      "metadata": {
        "id": "GMbFH7x0-9Tf"
      },
      "execution_count": 15,
      "outputs": []
    },
    {
      "cell_type": "code",
      "source": [
        "# Create an iterator class in Python that generates the Fibonacci sequence up to a specified number of terms.\n",
        "class FibonacciIterator:\n",
        "    def __init__(self, max_terms):\n",
        "        self.max_terms = max_terms\n",
        "        self.count = 0\n",
        "        self.a, self.b = 0, 1\n",
        "\n",
        "    def __iter__(self):\n",
        "        return self\n",
        "\n",
        "    def __next__(self):\n",
        "        if self.count >= self.max_terms:\n",
        "            raise StopIteration\n",
        "        if self.count == 0:\n",
        "            self.count += 1\n",
        "            return 0\n",
        "        elif self.count == 1:\n",
        "            self.count += 1\n",
        "            return 1\n",
        "        else:\n",
        "            self.a, self.b = self.b, self.a + self.b\n",
        "            self.count += 1\n",
        "            return self.a\n",
        "\n",
        "\n",
        "# Generate first 10 Fibonacci numbers\n",
        "fib = FibonacciIterator(10)\n",
        "for num in fib:\n",
        "    print(num)"
      ],
      "metadata": {
        "colab": {
          "base_uri": "https://localhost:8080/"
        },
        "id": "yaAIdBhA_0df",
        "outputId": "09ae312c-f6dc-4531-b331-981787e035d5"
      },
      "execution_count": 17,
      "outputs": [
        {
          "output_type": "stream",
          "name": "stdout",
          "text": [
            "0\n",
            "1\n",
            "1\n",
            "1\n",
            "2\n",
            "3\n",
            "5\n",
            "8\n",
            "13\n",
            "21\n"
          ]
        }
      ]
    },
    {
      "cell_type": "code",
      "source": [
        "#  Write a generator function in Python that yields the powers of 2 up to a given exponent.\n",
        "def powers_of_two(max_exponent):\n",
        "    for exponent in range(max_exponent + 1):\n",
        "        yield 2 ** exponent\n",
        "for power in powers_of_two(5):\n",
        "    print(power)"
      ],
      "metadata": {
        "colab": {
          "base_uri": "https://localhost:8080/"
        },
        "id": "uPitHYvC_0mP",
        "outputId": "c4cfd809-64f6-49e9-9d40-509a16f2dac6"
      },
      "execution_count": 18,
      "outputs": [
        {
          "output_type": "stream",
          "name": "stdout",
          "text": [
            "1\n",
            "2\n",
            "4\n",
            "8\n",
            "16\n",
            "32\n"
          ]
        }
      ]
    },
    {
      "cell_type": "code",
      "source": [
        "#  Implement a generator function that reads a file line by line and yields each line as a string.\n",
        "def read_file_line_by_line(file_path):\n",
        "    with open(file_path, 'r') as file:\n",
        "        for line in file:\n",
        "            yield line.rstrip('\\n')\n",
        "for line in read_file_line_by_line(\"example.txt\"):\n",
        "    print(line)"
      ],
      "metadata": {
        "colab": {
          "base_uri": "https://localhost:8080/",
          "height": 315
        },
        "id": "N67rumO9A2wF",
        "outputId": "9fcdd166-9282-4b33-d984-9b03ad9b444c"
      },
      "execution_count": 19,
      "outputs": [
        {
          "output_type": "error",
          "ename": "FileNotFoundError",
          "evalue": "[Errno 2] No such file or directory: 'example.txt'",
          "traceback": [
            "\u001b[0;31m---------------------------------------------------------------------------\u001b[0m",
            "\u001b[0;31mFileNotFoundError\u001b[0m                         Traceback (most recent call last)",
            "\u001b[0;32m/tmp/ipython-input-19-363437447.py\u001b[0m in \u001b[0;36m<cell line: 0>\u001b[0;34m()\u001b[0m\n\u001b[1;32m      4\u001b[0m         \u001b[0;32mfor\u001b[0m \u001b[0mline\u001b[0m \u001b[0;32min\u001b[0m \u001b[0mfile\u001b[0m\u001b[0;34m:\u001b[0m\u001b[0;34m\u001b[0m\u001b[0;34m\u001b[0m\u001b[0m\n\u001b[1;32m      5\u001b[0m             \u001b[0;32myield\u001b[0m \u001b[0mline\u001b[0m\u001b[0;34m.\u001b[0m\u001b[0mrstrip\u001b[0m\u001b[0;34m(\u001b[0m\u001b[0;34m'\\n'\u001b[0m\u001b[0;34m)\u001b[0m\u001b[0;34m\u001b[0m\u001b[0;34m\u001b[0m\u001b[0m\n\u001b[0;32m----> 6\u001b[0;31m \u001b[0;32mfor\u001b[0m \u001b[0mline\u001b[0m \u001b[0;32min\u001b[0m \u001b[0mread_file_line_by_line\u001b[0m\u001b[0;34m(\u001b[0m\u001b[0;34m\"example.txt\"\u001b[0m\u001b[0;34m)\u001b[0m\u001b[0;34m:\u001b[0m\u001b[0;34m\u001b[0m\u001b[0;34m\u001b[0m\u001b[0m\n\u001b[0m\u001b[1;32m      7\u001b[0m     \u001b[0mprint\u001b[0m\u001b[0;34m(\u001b[0m\u001b[0mline\u001b[0m\u001b[0;34m)\u001b[0m\u001b[0;34m\u001b[0m\u001b[0;34m\u001b[0m\u001b[0m\n",
            "\u001b[0;32m/tmp/ipython-input-19-363437447.py\u001b[0m in \u001b[0;36mread_file_line_by_line\u001b[0;34m(file_path)\u001b[0m\n\u001b[1;32m      1\u001b[0m \u001b[0;31m#  Implement a generator function that reads a file line by line and yields each line as a string.\u001b[0m\u001b[0;34m\u001b[0m\u001b[0;34m\u001b[0m\u001b[0m\n\u001b[1;32m      2\u001b[0m \u001b[0;32mdef\u001b[0m \u001b[0mread_file_line_by_line\u001b[0m\u001b[0;34m(\u001b[0m\u001b[0mfile_path\u001b[0m\u001b[0;34m)\u001b[0m\u001b[0;34m:\u001b[0m\u001b[0;34m\u001b[0m\u001b[0;34m\u001b[0m\u001b[0m\n\u001b[0;32m----> 3\u001b[0;31m     \u001b[0;32mwith\u001b[0m \u001b[0mopen\u001b[0m\u001b[0;34m(\u001b[0m\u001b[0mfile_path\u001b[0m\u001b[0;34m,\u001b[0m \u001b[0;34m'r'\u001b[0m\u001b[0;34m)\u001b[0m \u001b[0;32mas\u001b[0m \u001b[0mfile\u001b[0m\u001b[0;34m:\u001b[0m\u001b[0;34m\u001b[0m\u001b[0;34m\u001b[0m\u001b[0m\n\u001b[0m\u001b[1;32m      4\u001b[0m         \u001b[0;32mfor\u001b[0m \u001b[0mline\u001b[0m \u001b[0;32min\u001b[0m \u001b[0mfile\u001b[0m\u001b[0;34m:\u001b[0m\u001b[0;34m\u001b[0m\u001b[0;34m\u001b[0m\u001b[0m\n\u001b[1;32m      5\u001b[0m             \u001b[0;32myield\u001b[0m \u001b[0mline\u001b[0m\u001b[0;34m.\u001b[0m\u001b[0mrstrip\u001b[0m\u001b[0;34m(\u001b[0m\u001b[0;34m'\\n'\u001b[0m\u001b[0;34m)\u001b[0m\u001b[0;34m\u001b[0m\u001b[0;34m\u001b[0m\u001b[0m\n",
            "\u001b[0;31mFileNotFoundError\u001b[0m: [Errno 2] No such file or directory: 'example.txt'"
          ]
        }
      ]
    },
    {
      "cell_type": "code",
      "source": [
        "# Use a lambda function in Python to sort a list of tuples based on the second element of each tuple.\n",
        "data = [('apple', 3), ('banana', 1), ('cherry', 2)]\n",
        "sorted_data = sorted(data, key=lambda x: x[1])\n",
        "print(sorted_data)\n"
      ],
      "metadata": {
        "colab": {
          "base_uri": "https://localhost:8080/"
        },
        "id": "AWbIZzu4A26K",
        "outputId": "9bc980ff-d792-4b86-b113-6cc6df5d84a1"
      },
      "execution_count": 20,
      "outputs": [
        {
          "output_type": "stream",
          "name": "stdout",
          "text": [
            "[('banana', 1), ('cherry', 2), ('apple', 3)]\n"
          ]
        }
      ]
    },
    {
      "cell_type": "code",
      "source": [
        "# Write a Python program that uses `map()` to convert a list of temperatures from Celsius to Fahrenhei\n",
        "def celsius_to_fahrenheit(celsius):\n",
        "    return (celsius * 9/5) + 32\n",
        "\n",
        "celsius_temps = [0, 10, 20, 30, 40, 100]\n",
        "\n",
        "fahrenheit_temps = list(map(celsius_to_fahrenheit, celsius_temps))\n",
        "\n",
        "print(\"Celsius:\", celsius_temps)\n",
        "print(\"Fahrenheit:\", fahrenheit_temps)"
      ],
      "metadata": {
        "colab": {
          "base_uri": "https://localhost:8080/"
        },
        "id": "0aWgisRLA3CG",
        "outputId": "844e51bc-b816-4589-a87d-71e799a90940"
      },
      "execution_count": 24,
      "outputs": [
        {
          "output_type": "stream",
          "name": "stdout",
          "text": [
            "Celsius: [0, 10, 20, 30, 40, 100]\n",
            "Fahrenheit: [32.0, 50.0, 68.0, 86.0, 104.0, 212.0]\n"
          ]
        }
      ]
    },
    {
      "cell_type": "code",
      "source": [
        "#  Create a Python program that uses `filter()` to remove all the vowels from a given string.\n",
        "input_string = \"Hello, this is a Python filter example.\"\n",
        "\n",
        "def is_not_vowel(char):\n",
        "    return char.lower() not in 'aeiou'\n",
        "\n",
        "filtered_string = ''.join(filter(is_not_vowel, input_string))\n",
        "\n",
        "print(\"Original String:\", input_string)\n",
        "print(\"String without vowels:\", filtered_string)"
      ],
      "metadata": {
        "colab": {
          "base_uri": "https://localhost:8080/"
        },
        "id": "eea5Ht0sCWkF",
        "outputId": "c1a8dc1d-2bba-4764-b1bb-661e5d780614"
      },
      "execution_count": 27,
      "outputs": [
        {
          "output_type": "stream",
          "name": "stdout",
          "text": [
            "Original String: Hello, this is a Python filter example.\n",
            "String without vowels: Hll, ths s  Pythn fltr xmpl.\n"
          ]
        }
      ]
    },
    {
      "cell_type": "code",
      "source": [],
      "metadata": {
        "id": "yTaQ0NjHCWq3"
      },
      "execution_count": null,
      "outputs": []
    }
  ]
}